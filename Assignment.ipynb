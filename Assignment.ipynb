{
 "cells": [
  {
   "cell_type": "markdown",
   "id": "24af8477-76fb-48eb-a6d2-5691fa6a4785",
   "metadata": {},
   "source": [
    "Q1. How do you comment code in Python? What are the different types of comments?"
   ]
  },
  {
   "cell_type": "code",
   "execution_count": null,
   "id": "f2663eb1-4b5e-4803-ba07-eb3295ae3de2",
   "metadata": {},
   "outputs": [],
   "source": [
    "We can comments code in python by 3 ways-\n",
    "1.By Using single # or ## if there is a single line comments \n",
    "2.By Using ''' or \"\"\" if there is a multi line comments \n",
    "3.By selecting all comments and then click cntl + / if you want to do comments line by line "
   ]
  },
  {
   "cell_type": "code",
   "execution_count": null,
   "id": "ebfa59d7-6757-4255-a289-451c9d535f9e",
   "metadata": {},
   "outputs": [],
   "source": []
  },
  {
   "cell_type": "markdown",
   "id": "42f881bb-3b07-4924-956c-8ea44be92730",
   "metadata": {},
   "source": [
    "Q2. What are variables in Python? How do you declare and assign values to variables?"
   ]
  },
  {
   "cell_type": "code",
   "execution_count": null,
   "id": "c3612a6d-171b-4256-8d4a-ff31aa88032a",
   "metadata": {},
   "outputs": [],
   "source": [
    "A variable in Python is a storage location for data. It is a name that refers to a value\n",
    "and we can declare variable by just giving any name to it and assign value to it .\n",
    "Example age = 23\n",
    "        place = delhi    "
   ]
  },
  {
   "cell_type": "code",
   "execution_count": null,
   "id": "f230b916-cd86-4282-9f43-008e16e5b886",
   "metadata": {},
   "outputs": [],
   "source": []
  },
  {
   "cell_type": "markdown",
   "id": "4f096aea-6622-4a90-85fb-2f4981652625",
   "metadata": {},
   "source": [
    "Q3. How do you convert one data type to another in Python?"
   ]
  },
  {
   "cell_type": "code",
   "execution_count": null,
   "id": "56b99fff-506b-4667-8b22-cc4ae1dc5666",
   "metadata": {},
   "outputs": [],
   "source": [
    "We can use built-in-functions given in python to convert one data type to another like str(),int(),float(),list()\n",
    "etc. eg"
   ]
  },
  {
   "cell_type": "code",
   "execution_count": 1,
   "id": "47c9b0a1-8c5c-4386-8b61-c205a15fbc6d",
   "metadata": {},
   "outputs": [
    {
     "data": {
      "text/plain": [
       "'45875'"
      ]
     },
     "execution_count": 1,
     "metadata": {},
     "output_type": "execute_result"
    }
   ],
   "source": [
    "a = 45875\n",
    "b = str(a)\n",
    "b\n"
   ]
  },
  {
   "cell_type": "code",
   "execution_count": null,
   "id": "b77f3617-9ae0-411f-ab99-77ab6c293f5b",
   "metadata": {},
   "outputs": [],
   "source": []
  },
  {
   "cell_type": "markdown",
   "id": "d5cbca37-cb2a-4e2c-96ca-9118cdb43b5c",
   "metadata": {},
   "source": [
    "Q4. How do you write and execute a Python script from the command line?"
   ]
  },
  {
   "cell_type": "code",
   "execution_count": null,
   "id": "4af9723f-9e91-4b92-91bb-6cfc86a1023d",
   "metadata": {},
   "outputs": [],
   "source": [
    "We can execute a python script from command line by-\n",
    "1.Open a text editor and create a new file. Save the file with a .py extension.\n",
    "2.Write your Python code in the file.\n",
    "3.Open a command prompt and navigate to the directory where you saved your Python script.\n",
    "4.Then type your command to run your Python script"
   ]
  },
  {
   "cell_type": "code",
   "execution_count": null,
   "id": "8a334441-8bad-493a-8e5b-7eb77f0c3612",
   "metadata": {},
   "outputs": [],
   "source": []
  },
  {
   "cell_type": "markdown",
   "id": "b2c9801e-5cf3-43e4-a0a8-46827830154c",
   "metadata": {},
   "source": [
    "Q5. Given a list my_list = [1, 2, 3, 4, 5], write the code to slice the list and obtain the sub-list [2, 3]."
   ]
  },
  {
   "cell_type": "code",
   "execution_count": 2,
   "id": "089af742-cec3-4ff0-b648-bdb15675996c",
   "metadata": {},
   "outputs": [
    {
     "data": {
      "text/plain": [
       "[2, 3]"
      ]
     },
     "execution_count": 2,
     "metadata": {},
     "output_type": "execute_result"
    }
   ],
   "source": [
    "my_list = [1,2,3,4,5]\n",
    "my_list[1:3]"
   ]
  },
  {
   "cell_type": "code",
   "execution_count": null,
   "id": "6ba09200-b4e1-4220-ae76-5742eb1a8e0e",
   "metadata": {},
   "outputs": [],
   "source": []
  },
  {
   "cell_type": "markdown",
   "id": "b46fc2ad-5920-46c9-8052-cb7337f741b1",
   "metadata": {},
   "source": [
    "Q6. What is a complex number in mathematics, and how is it represented in Python?"
   ]
  },
  {
   "cell_type": "code",
   "execution_count": null,
   "id": "440e5e8c-b827-44db-a6d0-ffd6d27e1c57",
   "metadata": {},
   "outputs": [],
   "source": [
    "Complex number is combination of real and imaginary number and we can represent it like s = 15+54j\n",
    "using j is necessary part to show imaginary part "
   ]
  },
  {
   "cell_type": "code",
   "execution_count": null,
   "id": "216b78cc-9ebd-4fca-af6f-c00b919d0661",
   "metadata": {},
   "outputs": [],
   "source": []
  },
  {
   "cell_type": "markdown",
   "id": "a05c2ad1-2fbc-4380-b4e5-32e5f0c53470",
   "metadata": {},
   "source": [
    "Q7. What is the correct way to declare a variable named age and assign the value 25 to it?"
   ]
  },
  {
   "cell_type": "code",
   "execution_count": null,
   "id": "20a42acd-2bb4-4c43-bab5-1705c02aa528",
   "metadata": {},
   "outputs": [],
   "source": [
    "Use similar name like here we will use age variable\n",
    "age = 25"
   ]
  },
  {
   "cell_type": "code",
   "execution_count": null,
   "id": "76088bc1-1968-446b-b9ab-b28651e53e2d",
   "metadata": {},
   "outputs": [],
   "source": []
  },
  {
   "cell_type": "markdown",
   "id": "ec12344f-6c3e-4274-abc0-8287da02fbd8",
   "metadata": {},
   "source": [
    "Q8. Declare a variable named price and assign the value 9.99 to it. What data type does this variable\n",
    "belong to?"
   ]
  },
  {
   "cell_type": "code",
   "execution_count": 4,
   "id": "b24c6989-413a-480b-b814-ef9333034d5d",
   "metadata": {},
   "outputs": [
    {
     "data": {
      "text/plain": [
       "float"
      ]
     },
     "execution_count": 4,
     "metadata": {},
     "output_type": "execute_result"
    }
   ],
   "source": [
    "price = 9.99\n",
    "type(price)"
   ]
  },
  {
   "cell_type": "code",
   "execution_count": null,
   "id": "798e6a4e-b96e-435f-8694-c6f702487e59",
   "metadata": {},
   "outputs": [],
   "source": []
  },
  {
   "cell_type": "markdown",
   "id": "2c3a5219-3295-4168-8c60-b5c495f23474",
   "metadata": {},
   "source": [
    "Q9. Create a variable named name and assign your full name to it as a string. How would you print the\n",
    "value of this variable?"
   ]
  },
  {
   "cell_type": "code",
   "execution_count": 5,
   "id": "d4d13ca4-351e-4fdb-89f9-c81235d1da6e",
   "metadata": {},
   "outputs": [
    {
     "name": "stdout",
     "output_type": "stream",
     "text": [
      "Monu Sharma\n"
     ]
    }
   ],
   "source": [
    "name = \"Monu Sharma\"\n",
    "print(name)"
   ]
  },
  {
   "cell_type": "code",
   "execution_count": null,
   "id": "acb00203-eb76-4db2-b731-5b9dc263133c",
   "metadata": {},
   "outputs": [],
   "source": []
  },
  {
   "cell_type": "markdown",
   "id": "6282f791-1a2e-4cf7-88f7-ed71ba022149",
   "metadata": {},
   "source": [
    "Q10. Given the string \"Hello, World!\", extract the substring \"World\"."
   ]
  },
  {
   "cell_type": "code",
   "execution_count": 6,
   "id": "b6b91691-4f0e-4c42-98ad-9e0080b07be5",
   "metadata": {},
   "outputs": [
    {
     "data": {
      "text/plain": [
       "'World'"
      ]
     },
     "execution_count": 6,
     "metadata": {},
     "output_type": "execute_result"
    }
   ],
   "source": [
    "h = \"Hello, World!\"\n",
    "h[7:12]"
   ]
  },
  {
   "cell_type": "code",
   "execution_count": null,
   "id": "fa5b1b84-add5-4f39-9749-5072e20370aa",
   "metadata": {},
   "outputs": [],
   "source": []
  },
  {
   "cell_type": "markdown",
   "id": "0475dc8d-b66e-488e-bb1d-89ee2cf45e22",
   "metadata": {},
   "source": [
    "Q11. Create a variable named \"is_student\" and assign it a boolean value indicating whether you are\n",
    "currently a student or not."
   ]
  },
  {
   "cell_type": "code",
   "execution_count": 7,
   "id": "b94bbd9a-89f7-457a-982d-1e30b2ca1bf4",
   "metadata": {},
   "outputs": [],
   "source": [
    "is_student = True"
   ]
  },
  {
   "cell_type": "code",
   "execution_count": null,
   "id": "c8ba823f-47b8-451e-9f1f-4a38a66f8cac",
   "metadata": {},
   "outputs": [],
   "source": [
    "Yes I am a student"
   ]
  },
  {
   "cell_type": "code",
   "execution_count": null,
   "id": "5e21952d-a617-4407-ad59-b498312db261",
   "metadata": {},
   "outputs": [],
   "source": []
  },
  {
   "cell_type": "code",
   "execution_count": null,
   "id": "315c8441-3b3c-40f6-af58-715ee179798b",
   "metadata": {},
   "outputs": [],
   "source": []
  }
 ],
 "metadata": {
  "kernelspec": {
   "display_name": "Python 3 (ipykernel)",
   "language": "python",
   "name": "python3"
  },
  "language_info": {
   "codemirror_mode": {
    "name": "ipython",
    "version": 3
   },
   "file_extension": ".py",
   "mimetype": "text/x-python",
   "name": "python",
   "nbconvert_exporter": "python",
   "pygments_lexer": "ipython3",
   "version": "3.10.8"
  }
 },
 "nbformat": 4,
 "nbformat_minor": 5
}
